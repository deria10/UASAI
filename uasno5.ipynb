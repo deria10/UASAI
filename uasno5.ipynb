{
  "nbformat": 4,
  "nbformat_minor": 0,
  "metadata": {
    "colab": {
      "provenance": []
    },
    "kernelspec": {
      "name": "python3",
      "display_name": "Python 3"
    },
    "language_info": {
      "name": "python"
    }
  },
  "cells": [
    {
      "cell_type": "code",
      "execution_count": 9,
      "metadata": {
        "id": "PkaYcvBT4tDi"
      },
      "outputs": [],
      "source": [
        "from sklearn.model_selection import train_test_split\n",
        "from tensorflow.keras.datasets import mnist\n",
        "\n",
        "# Memuat dataset MNIST\n",
        "(X, y), (_, _) = mnist.load_data()\n",
        "\n",
        "# Reshape gambar menjadi vektor satu dimensi\n",
        "X = X.reshape((X.shape[0], -1))\n",
        "\n",
        "# Bagi dataset menjadi data latih dan data uji (misalnya, 80% latih, 20% uji)\n",
        "X_train, X_test, y_train, y_test = train_test_split(X, y, test_size=0.2, random_state=42)\n",
        "\n",
        "# Pastikan untuk mengubah kembali dimensi gambar jika menggunakan CNN\n",
        "# Jika menggunakan model sederhana, langkah ini mungkin tidak diperlukan\n",
        "# X_train = X_train.reshape((X_train.shape[0], 28, 28))\n",
        "# X_test = X_test.reshape((X_test.shape[0], 28, 28)"
      ]
    },
    {
      "cell_type": "code",
      "source": [
        "from sklearn.model_selection import train_test_split\n",
        "from tensorflow.keras.datasets import mnist\n",
        "\n",
        "# Load dataset\n",
        "(x_train, y_train), (x_test, y_test) = mnist.load_data()\n",
        "\n",
        "# Reshape and normalize the input data\n",
        "x_train = x_train.reshape((len(x_train), -1)) / 255.0\n",
        "x_test = x_test.reshape((len(x_test), -1)) / 255.0\n",
        "\n",
        "# Split the dataset into training and testing sets\n",
        "x_train, x_val, y_train, y_val = train_test_split(x_train, y_train, test_size=0.2, random_state=42)"
      ],
      "metadata": {
        "id": "TtPR_c4o59rN"
      },
      "execution_count": 10,
      "outputs": []
    },
    {
      "cell_type": "code",
      "source": [
        "from tensorflow.keras import Sequential\n",
        "from tensorflow.keras.layers import Dense\n",
        "\n",
        "# Create a simple neural network model\n",
        "model = Sequential()\n",
        "model.add(Dense(128, activation='relu', input_shape=(784,)))\n",
        "model.add(Dense(10, activation='softmax'))\n",
        "\n",
        "# Compile the model\n",
        "model.compile(optimizer='adam', loss='sparse_categorical_crossentropy', metrics=['accuracy'])\n",
        "\n",
        "# Train the model\n",
        "model.fit(x_train, y_train, epochs=10, batch_size=32, validation_data=(x_val, y_val))"
      ],
      "metadata": {
        "colab": {
          "base_uri": "https://localhost:8080/",
          "height": 0
        },
        "id": "Yk6MErGO6JMt",
        "outputId": "582dc52b-d4a2-41f4-9bf8-e937889ab08e"
      },
      "execution_count": 11,
      "outputs": [
        {
          "output_type": "stream",
          "name": "stdout",
          "text": [
            "Epoch 1/10\n",
            "1500/1500 [==============================] - 4s 2ms/step - loss: 0.2876 - accuracy: 0.9174 - val_loss: 0.1673 - val_accuracy: 0.9517\n",
            "Epoch 2/10\n",
            "1500/1500 [==============================] - 3s 2ms/step - loss: 0.1293 - accuracy: 0.9621 - val_loss: 0.1155 - val_accuracy: 0.9668\n",
            "Epoch 3/10\n",
            "1500/1500 [==============================] - 3s 2ms/step - loss: 0.0914 - accuracy: 0.9726 - val_loss: 0.1069 - val_accuracy: 0.9687\n",
            "Epoch 4/10\n",
            "1500/1500 [==============================] - 3s 2ms/step - loss: 0.0681 - accuracy: 0.9793 - val_loss: 0.0911 - val_accuracy: 0.9727\n",
            "Epoch 5/10\n",
            "1500/1500 [==============================] - 3s 2ms/step - loss: 0.0532 - accuracy: 0.9843 - val_loss: 0.0870 - val_accuracy: 0.9750\n",
            "Epoch 6/10\n",
            "1500/1500 [==============================] - 3s 2ms/step - loss: 0.0417 - accuracy: 0.9875 - val_loss: 0.0891 - val_accuracy: 0.9732\n",
            "Epoch 7/10\n",
            "1500/1500 [==============================] - 3s 2ms/step - loss: 0.0334 - accuracy: 0.9897 - val_loss: 0.0914 - val_accuracy: 0.9736\n",
            "Epoch 8/10\n",
            "1500/1500 [==============================] - 3s 2ms/step - loss: 0.0266 - accuracy: 0.9921 - val_loss: 0.0853 - val_accuracy: 0.9751\n",
            "Epoch 9/10\n",
            "1500/1500 [==============================] - 3s 2ms/step - loss: 0.0212 - accuracy: 0.9934 - val_loss: 0.0929 - val_accuracy: 0.9737\n",
            "Epoch 10/10\n",
            "1500/1500 [==============================] - 3s 2ms/step - loss: 0.0174 - accuracy: 0.9950 - val_loss: 0.0992 - val_accuracy: 0.9752\n"
          ]
        },
        {
          "output_type": "execute_result",
          "data": {
            "text/plain": [
              "<keras.src.callbacks.History at 0x7f829674a170>"
            ]
          },
          "metadata": {},
          "execution_count": 11
        }
      ]
    },
    {
      "cell_type": "code",
      "source": [
        "# Predict labels for the test set\n",
        "import numpy as np\n",
        "y_pred_probs = model.predict(x_test)\n",
        "y_pred = np.argmax(y_pred_probs, axis=1)"
      ],
      "metadata": {
        "colab": {
          "base_uri": "https://localhost:8080/",
          "height": 0
        },
        "id": "zmM7CxBC7Wmm",
        "outputId": "3ff9a680-2ac5-46bc-afd3-408c754854ed"
      },
      "execution_count": 12,
      "outputs": [
        {
          "output_type": "stream",
          "name": "stdout",
          "text": [
            "313/313 [==============================] - 0s 993us/step\n"
          ]
        }
      ]
    },
    {
      "cell_type": "code",
      "source": [
        "from sklearn.metrics import accuracy_score\n",
        "\n",
        "# Calculate accuracy\n",
        "accuracy = accuracy_score(y_test, y_pred)\n",
        "print(f\"Accuracy: {accuracy * 100:.2f}%\")"
      ],
      "metadata": {
        "colab": {
          "base_uri": "https://localhost:8080/",
          "height": 0
        },
        "id": "Pp3IPTS-7Z_6",
        "outputId": "b0f18328-807c-42a5-ab80-5e6af1ddd784"
      },
      "execution_count": 14,
      "outputs": [
        {
          "output_type": "stream",
          "name": "stdout",
          "text": [
            "Accuracy: 97.50%\n"
          ]
        }
      ]
    }
  ]
}